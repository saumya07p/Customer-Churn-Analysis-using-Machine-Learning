{
  "nbformat": 4,
  "nbformat_minor": 0,
  "metadata": {
    "colab": {
      "provenance": [],
      "toc_visible": true,
      "authorship_tag": "ABX9TyPCpz8qmKJ5c6LeUE/71KUk",
      "include_colab_link": true
    },
    "kernelspec": {
      "name": "python3",
      "display_name": "Python 3"
    },
    "language_info": {
      "name": "python"
    }
  },
  "cells": [
    {
      "cell_type": "markdown",
      "metadata": {
        "id": "view-in-github",
        "colab_type": "text"
      },
      "source": [
        "<a href=\"https://colab.research.google.com/github/saumya07p/Customer-Churn-Analysis-using-Machine-Learning/blob/main/Customer_Churn_Analysis_using_Machine_Learning.ipynb\" target=\"_parent\"><img src=\"https://colab.research.google.com/assets/colab-badge.svg\" alt=\"Open In Colab\"/></a>"
      ]
    },
    {
      "cell_type": "markdown",
      "source": [
        "# Introduction\n",
        "\n",
        "\n",
        "\n",
        "Customer churn, alternatively termed as customer attrition, signifies the scenario wherein customers discontinue their association with a company or disengage from utilizing its services or products. Essentially, it denotes the pace at which customers terminate their subscriptions or cease making purchases from a business within a specific timeframe. Elevated churn rates could indicate dissatisfaction with the product, service, or overall customer experience offered by the business. Vigilantly tracking churn provides insights into areas that require enhancement and allows for the resolution of customer concerns. Our focus is on analyzing customer departures from a business, leveraging customer attributes to empower companies in identifying potential churners through available data"
      ],
      "metadata": {
        "id": "kFRGhiVdDFgA"
      }
    },
    {
      "cell_type": "markdown",
      "source": [
        "# Data Understanding and Preprocessing"
      ],
      "metadata": {
        "id": "UiBfdhWODTSL"
      }
    },
    {
      "cell_type": "code",
      "source": [
        "#Mount Google Drive\n",
        "from google.colab import drive\n",
        "drive.mount('/content/drive')"
      ],
      "metadata": {
        "colab": {
          "base_uri": "https://localhost:8080/",
          "height": 321
        },
        "id": "6zHUUSUKZbm8",
        "outputId": "0f95471f-6d99-4f44-ccc4-ac07cc8ffac1"
      },
      "execution_count": null,
      "outputs": [
        {
          "output_type": "error",
          "ename": "MessageError",
          "evalue": "Error: credential propagation was unsuccessful",
          "traceback": [
            "\u001b[0;31m---------------------------------------------------------------------------\u001b[0m",
            "\u001b[0;31mMessageError\u001b[0m                              Traceback (most recent call last)",
            "\u001b[0;32m<ipython-input-1-27d8a4bf75f3>\u001b[0m in \u001b[0;36m<cell line: 3>\u001b[0;34m()\u001b[0m\n\u001b[1;32m      1\u001b[0m \u001b[0;31m#Mount Google Drive\u001b[0m\u001b[0;34m\u001b[0m\u001b[0;34m\u001b[0m\u001b[0m\n\u001b[1;32m      2\u001b[0m \u001b[0;32mfrom\u001b[0m \u001b[0mgoogle\u001b[0m\u001b[0;34m.\u001b[0m\u001b[0mcolab\u001b[0m \u001b[0;32mimport\u001b[0m \u001b[0mdrive\u001b[0m\u001b[0;34m\u001b[0m\u001b[0;34m\u001b[0m\u001b[0m\n\u001b[0;32m----> 3\u001b[0;31m \u001b[0mdrive\u001b[0m\u001b[0;34m.\u001b[0m\u001b[0mmount\u001b[0m\u001b[0;34m(\u001b[0m\u001b[0;34m'/content/drive'\u001b[0m\u001b[0;34m)\u001b[0m\u001b[0;34m\u001b[0m\u001b[0;34m\u001b[0m\u001b[0m\n\u001b[0m",
            "\u001b[0;32m/usr/local/lib/python3.10/dist-packages/google/colab/drive.py\u001b[0m in \u001b[0;36mmount\u001b[0;34m(mountpoint, force_remount, timeout_ms, readonly)\u001b[0m\n\u001b[1;32m     98\u001b[0m \u001b[0;32mdef\u001b[0m \u001b[0mmount\u001b[0m\u001b[0;34m(\u001b[0m\u001b[0mmountpoint\u001b[0m\u001b[0;34m,\u001b[0m \u001b[0mforce_remount\u001b[0m\u001b[0;34m=\u001b[0m\u001b[0;32mFalse\u001b[0m\u001b[0;34m,\u001b[0m \u001b[0mtimeout_ms\u001b[0m\u001b[0;34m=\u001b[0m\u001b[0;36m120000\u001b[0m\u001b[0;34m,\u001b[0m \u001b[0mreadonly\u001b[0m\u001b[0;34m=\u001b[0m\u001b[0;32mFalse\u001b[0m\u001b[0;34m)\u001b[0m\u001b[0;34m:\u001b[0m\u001b[0;34m\u001b[0m\u001b[0;34m\u001b[0m\u001b[0m\n\u001b[1;32m     99\u001b[0m   \u001b[0;34m\"\"\"Mount your Google Drive at the specified mountpoint path.\"\"\"\u001b[0m\u001b[0;34m\u001b[0m\u001b[0;34m\u001b[0m\u001b[0m\n\u001b[0;32m--> 100\u001b[0;31m   return _mount(\n\u001b[0m\u001b[1;32m    101\u001b[0m       \u001b[0mmountpoint\u001b[0m\u001b[0;34m,\u001b[0m\u001b[0;34m\u001b[0m\u001b[0;34m\u001b[0m\u001b[0m\n\u001b[1;32m    102\u001b[0m       \u001b[0mforce_remount\u001b[0m\u001b[0;34m=\u001b[0m\u001b[0mforce_remount\u001b[0m\u001b[0;34m,\u001b[0m\u001b[0;34m\u001b[0m\u001b[0;34m\u001b[0m\u001b[0m\n",
            "\u001b[0;32m/usr/local/lib/python3.10/dist-packages/google/colab/drive.py\u001b[0m in \u001b[0;36m_mount\u001b[0;34m(mountpoint, force_remount, timeout_ms, ephemeral, readonly)\u001b[0m\n\u001b[1;32m    131\u001b[0m   )\n\u001b[1;32m    132\u001b[0m   \u001b[0;32mif\u001b[0m \u001b[0mephemeral\u001b[0m\u001b[0;34m:\u001b[0m\u001b[0;34m\u001b[0m\u001b[0;34m\u001b[0m\u001b[0m\n\u001b[0;32m--> 133\u001b[0;31m     _message.blocking_request(\n\u001b[0m\u001b[1;32m    134\u001b[0m         \u001b[0;34m'request_auth'\u001b[0m\u001b[0;34m,\u001b[0m \u001b[0mrequest\u001b[0m\u001b[0;34m=\u001b[0m\u001b[0;34m{\u001b[0m\u001b[0;34m'authType'\u001b[0m\u001b[0;34m:\u001b[0m \u001b[0;34m'dfs_ephemeral'\u001b[0m\u001b[0;34m}\u001b[0m\u001b[0;34m,\u001b[0m \u001b[0mtimeout_sec\u001b[0m\u001b[0;34m=\u001b[0m\u001b[0;32mNone\u001b[0m\u001b[0;34m\u001b[0m\u001b[0;34m\u001b[0m\u001b[0m\n\u001b[1;32m    135\u001b[0m     )\n",
            "\u001b[0;32m/usr/local/lib/python3.10/dist-packages/google/colab/_message.py\u001b[0m in \u001b[0;36mblocking_request\u001b[0;34m(request_type, request, timeout_sec, parent)\u001b[0m\n\u001b[1;32m    174\u001b[0m       \u001b[0mrequest_type\u001b[0m\u001b[0;34m,\u001b[0m \u001b[0mrequest\u001b[0m\u001b[0;34m,\u001b[0m \u001b[0mparent\u001b[0m\u001b[0;34m=\u001b[0m\u001b[0mparent\u001b[0m\u001b[0;34m,\u001b[0m \u001b[0mexpect_reply\u001b[0m\u001b[0;34m=\u001b[0m\u001b[0;32mTrue\u001b[0m\u001b[0;34m\u001b[0m\u001b[0;34m\u001b[0m\u001b[0m\n\u001b[1;32m    175\u001b[0m   )\n\u001b[0;32m--> 176\u001b[0;31m   \u001b[0;32mreturn\u001b[0m \u001b[0mread_reply_from_input\u001b[0m\u001b[0;34m(\u001b[0m\u001b[0mrequest_id\u001b[0m\u001b[0;34m,\u001b[0m \u001b[0mtimeout_sec\u001b[0m\u001b[0;34m)\u001b[0m\u001b[0;34m\u001b[0m\u001b[0;34m\u001b[0m\u001b[0m\n\u001b[0m",
            "\u001b[0;32m/usr/local/lib/python3.10/dist-packages/google/colab/_message.py\u001b[0m in \u001b[0;36mread_reply_from_input\u001b[0;34m(message_id, timeout_sec)\u001b[0m\n\u001b[1;32m    101\u001b[0m     ):\n\u001b[1;32m    102\u001b[0m       \u001b[0;32mif\u001b[0m \u001b[0;34m'error'\u001b[0m \u001b[0;32min\u001b[0m \u001b[0mreply\u001b[0m\u001b[0;34m:\u001b[0m\u001b[0;34m\u001b[0m\u001b[0;34m\u001b[0m\u001b[0m\n\u001b[0;32m--> 103\u001b[0;31m         \u001b[0;32mraise\u001b[0m \u001b[0mMessageError\u001b[0m\u001b[0;34m(\u001b[0m\u001b[0mreply\u001b[0m\u001b[0;34m[\u001b[0m\u001b[0;34m'error'\u001b[0m\u001b[0;34m]\u001b[0m\u001b[0;34m)\u001b[0m\u001b[0;34m\u001b[0m\u001b[0;34m\u001b[0m\u001b[0m\n\u001b[0m\u001b[1;32m    104\u001b[0m       \u001b[0;32mreturn\u001b[0m \u001b[0mreply\u001b[0m\u001b[0;34m.\u001b[0m\u001b[0mget\u001b[0m\u001b[0;34m(\u001b[0m\u001b[0;34m'data'\u001b[0m\u001b[0;34m,\u001b[0m \u001b[0;32mNone\u001b[0m\u001b[0;34m)\u001b[0m\u001b[0;34m\u001b[0m\u001b[0;34m\u001b[0m\u001b[0m\n\u001b[1;32m    105\u001b[0m \u001b[0;34m\u001b[0m\u001b[0m\n",
            "\u001b[0;31mMessageError\u001b[0m: Error: credential propagation was unsuccessful"
          ]
        }
      ]
    },
    {
      "cell_type": "code",
      "execution_count": null,
      "metadata": {
        "id": "eMvrp2k2Vg3U"
      },
      "outputs": [],
      "source": [
        "#import libaries\n",
        "\n",
        "import pandas as pd\n",
        "import matplotlib.pyplot as plt\n",
        "import seaborn as sns\n",
        "import pandas as pd\n",
        "from sklearn.model_selection import train_test_split\n",
        "from matplotlib import pyplot as plt\n",
        "from sklearn import tree\n",
        "from sklearn.tree import DecisionTreeClassifier\n",
        "from sklearn.metrics import confusion_matrix\n",
        "from sklearn.metrics import ConfusionMatrixDisplay\n",
        "from sklearn.metrics import classification_report"
      ]
    },
    {
      "cell_type": "code",
      "source": [
        "# Read data\n",
        "\n",
        "customer = pd.read_csv('/content/drive/MyDrive/ML_Assignment/CustomerChurnData.csv')\n",
        "\n",
        "customer"
      ],
      "metadata": {
        "id": "OjCSzLdgbRr5"
      },
      "execution_count": null,
      "outputs": []
    },
    {
      "cell_type": "code",
      "source": [
        "# Examine the number of rows and cols\n",
        "customer.shape"
      ],
      "metadata": {
        "id": "tRtUXs-JUiES"
      },
      "execution_count": null,
      "outputs": []
    },
    {
      "cell_type": "code",
      "source": [
        "# Show the head rows of a data frame\n",
        "customer.head()"
      ],
      "metadata": {
        "id": "-es2CQX0Ul5B"
      },
      "execution_count": null,
      "outputs": []
    },
    {
      "cell_type": "code",
      "source": [
        "# Show the tail rows of a data frame\n",
        "\n",
        "customer.tail()"
      ],
      "metadata": {
        "id": "sYh5-h0XUoT0"
      },
      "execution_count": null,
      "outputs": []
    },
    {
      "cell_type": "code",
      "source": [
        "customer.describe()"
      ],
      "metadata": {
        "id": "k2gdOhlAUN4Q"
      },
      "execution_count": null,
      "outputs": []
    },
    {
      "cell_type": "code",
      "source": [
        "customer.info()"
      ],
      "metadata": {
        "id": "KWHw5rtqUdGJ"
      },
      "execution_count": null,
      "outputs": []
    },
    {
      "cell_type": "code",
      "source": [
        "# Examine missing values\n",
        "\n",
        "customer.isnull().sum()"
      ],
      "metadata": {
        "id": "LFSEYBnsi9Pb"
      },
      "execution_count": null,
      "outputs": []
    },
    {
      "cell_type": "code",
      "source": [
        "#Examine data types of each column\n",
        "\n",
        "customer.dtypes"
      ],
      "metadata": {
        "id": "0VC8-d6GsQrE"
      },
      "execution_count": null,
      "outputs": []
    },
    {
      "cell_type": "code",
      "source": [
        "customer.select_dtypes(include=['number'])"
      ],
      "metadata": {
        "id": "fpLVYc_IsVVX"
      },
      "execution_count": null,
      "outputs": []
    },
    {
      "cell_type": "code",
      "source": [
        "customer.select_dtypes(include=['object'])"
      ],
      "metadata": {
        "id": "C1aKKNgvshFF"
      },
      "execution_count": null,
      "outputs": []
    },
    {
      "cell_type": "code",
      "source": [
        "# Identify categorical variables\n",
        "categorical_cols = customer.select_dtypes(include=['object']).columns\n",
        "\n",
        "# Convert categorical variables to \"category\" type\n",
        "customer[categorical_cols] = customer[categorical_cols].astype('category')\n",
        "\n",
        "customer.select_dtypes(include=['category'])"
      ],
      "metadata": {
        "id": "A3_nslsQsy00"
      },
      "execution_count": null,
      "outputs": []
    },
    {
      "cell_type": "code",
      "source": [
        "customer.dtypes"
      ],
      "metadata": {
        "id": "2siRoJlO2Y_c"
      },
      "execution_count": null,
      "outputs": []
    },
    {
      "cell_type": "code",
      "source": [
        "# List of categorical variables\n",
        "categorical_columns = [column for column in customer.keys() if customer[column].dtype.name == 'category']\n",
        "categorical_columns"
      ],
      "metadata": {
        "id": "DFvTWjscMyVq"
      },
      "execution_count": null,
      "outputs": []
    },
    {
      "cell_type": "markdown",
      "source": [
        "# Data Visualization of Numerical Values"
      ],
      "metadata": {
        "id": "m4wzcfabSWR6"
      }
    },
    {
      "cell_type": "code",
      "source": [
        "customer['tenure'].describe()"
      ],
      "metadata": {
        "id": "hfMFc88uUUHe"
      },
      "execution_count": null,
      "outputs": []
    },
    {
      "cell_type": "code",
      "source": [
        "customer[['age','tenure']].describe()"
      ],
      "metadata": {
        "id": "QeZjoo_cUbGq"
      },
      "execution_count": null,
      "outputs": []
    },
    {
      "cell_type": "code",
      "source": [
        "customer['tenure'].max()"
      ],
      "metadata": {
        "id": "3WO4CfmNUqs9"
      },
      "execution_count": null,
      "outputs": []
    },
    {
      "cell_type": "code",
      "source": [
        "customer[customer['tenure'] == customer['tenure'].max()]"
      ],
      "metadata": {
        "id": "SGC6Ra3SVEuX"
      },
      "execution_count": null,
      "outputs": []
    },
    {
      "cell_type": "code",
      "source": [
        "# Obtain the variance, standard deviation, and range of a numeric varaible: Attack\n",
        "print(\"variance: \", customer['tenure'].var(), \"standard deviation: \", customer['tenure'].std(), \"range: \", customer['tenure'].min(), customer['tenure'].max())"
      ],
      "metadata": {
        "id": "J87WRj8xVa1W"
      },
      "execution_count": null,
      "outputs": []
    },
    {
      "cell_type": "code",
      "source": [
        "IQR = customer['tenure'].quantile(0.75) - customer['tenure'].quantile(0.25)\n",
        "print(\"IQR:\", IQR)"
      ],
      "metadata": {
        "id": "7maOmjSoVlCg"
      },
      "execution_count": null,
      "outputs": []
    },
    {
      "cell_type": "code",
      "source": [
        "# Boxplot of a numeric variable 'tenure'\n",
        "snsplot = sns.boxplot(x='tenure', data = customer)\n",
        "snsplot.set_title(\"Boxplot of Tenure in the Customer Churn data set\")"
      ],
      "metadata": {
        "id": "7l0SdecMVw6G"
      },
      "execution_count": null,
      "outputs": []
    },
    {
      "cell_type": "code",
      "source": [
        "# Boxplot of a numeric variable 'income'\n",
        "snsplot = sns.boxplot(x='income', data = customer)\n",
        "snsplot.set_title(\"Boxplot of Income in the Customer data set\")"
      ],
      "metadata": {
        "id": "g6Gy9EPCxUEk"
      },
      "execution_count": null,
      "outputs": []
    },
    {
      "cell_type": "code",
      "source": [
        "customer['age'].describe()"
      ],
      "metadata": {
        "id": "UExK0AqS1SBO"
      },
      "execution_count": null,
      "outputs": []
    },
    {
      "cell_type": "code",
      "source": [
        "snsplot = sns.boxplot(x='age', data = customer)\n",
        "snsplot.set_title(\"Boxplot of Age in the Customer Churn data set\")"
      ],
      "metadata": {
        "id": "D36kbnmSV2XG"
      },
      "execution_count": null,
      "outputs": []
    },
    {
      "cell_type": "code",
      "source": [
        "snsplot = sns.histplot(x='tenure', data = customer)\n",
        "snsplot.set_title(\"Histogram of tenure in the Customer Churn Data set\")"
      ],
      "metadata": {
        "id": "DSg--e1VP6XK"
      },
      "execution_count": null,
      "outputs": []
    },
    {
      "cell_type": "code",
      "source": [
        "snsplot = sns.histplot(x='age', data = customer)\n",
        "snsplot.set_title(\"Histogram of age in the Customer Churn Data set\")"
      ],
      "metadata": {
        "id": "lXR1A-qBQJnb"
      },
      "execution_count": null,
      "outputs": []
    },
    {
      "cell_type": "code",
      "source": [
        "snsplot = sns.histplot(x='age', data = customer)\n",
        "snsplot.set_title(\"Histogram of age in the Customer Churn Data set\")"
      ],
      "metadata": {
        "id": "Ul0Tgjv0QRAF"
      },
      "execution_count": null,
      "outputs": []
    },
    {
      "cell_type": "markdown",
      "source": [
        "# Data Visualization of Categorical Values"
      ],
      "metadata": {
        "id": "t9INBltvyGxr"
      }
    },
    {
      "cell_type": "code",
      "source": [
        "customer['churn'].value_counts(normalize = True)"
      ],
      "metadata": {
        "id": "-976qMp2X69g"
      },
      "execution_count": null,
      "outputs": []
    },
    {
      "cell_type": "code",
      "source": [
        "number_of_values = len(customer['churn'])\n",
        "number_of_values"
      ],
      "metadata": {
        "id": "mL6Vr3imZK-L"
      },
      "execution_count": null,
      "outputs": []
    },
    {
      "cell_type": "code",
      "source": [
        "customer.keys()"
      ],
      "metadata": {
        "id": "DcF9Vcoqz4QP"
      },
      "execution_count": null,
      "outputs": []
    },
    {
      "cell_type": "code",
      "source": [
        "customer['churn'].describe()"
      ],
      "metadata": {
        "id": "e2Kp3Q8OzFys"
      },
      "execution_count": null,
      "outputs": []
    },
    {
      "cell_type": "code",
      "source": [
        "customer['churn'].value_counts()"
      ],
      "metadata": {
        "id": "f1yD8BcrzPL-"
      },
      "execution_count": null,
      "outputs": []
    },
    {
      "cell_type": "code",
      "source": [
        "#Plotting a Countplot for Churn - Yes and No\n",
        "\n",
        "snsplot = sns.countplot(x='churn', data=customer)\n",
        "snsplot.set_title(\"Countplot of Churn in the Customer Churn data set\")"
      ],
      "metadata": {
        "id": "E46PiEcZXlki"
      },
      "execution_count": null,
      "outputs": []
    },
    {
      "cell_type": "code",
      "source": [
        "customer['region'].describe()"
      ],
      "metadata": {
        "id": "ZaMbMqOKQ2NL"
      },
      "execution_count": null,
      "outputs": []
    },
    {
      "cell_type": "code",
      "source": [
        "customer['region'].value_counts()"
      ],
      "metadata": {
        "id": "svTaHc0gQ6IQ"
      },
      "execution_count": null,
      "outputs": []
    },
    {
      "cell_type": "code",
      "source": [
        "snsplot = sns.countplot(x='region', data=customer, color = 'red')\n",
        "snsplot.set_xticklabels(snsplot.get_xticklabels(), ha=\"right\")\n",
        "snsplot.set_title(\"Countplot of region in the Customer Churn data set\")"
      ],
      "metadata": {
        "id": "bXLNA17QPv5A"
      },
      "execution_count": null,
      "outputs": []
    },
    {
      "cell_type": "markdown",
      "source": [
        "# Understanding relationships of multiple variables"
      ],
      "metadata": {
        "id": "VEH8_tj5NaDK"
      }
    },
    {
      "cell_type": "code",
      "source": [
        "plt.figure(figsize=(16, 6))\n",
        "heatmap = sns.heatmap(customer.corr(), vmin=-1, vmax=1, annot=True)\n",
        "heatmap.set_title('Correlation Heatmap', fontdict={'fontsize':12}, pad=12);"
      ],
      "metadata": {
        "id": "YZ4qdPpUNbVH"
      },
      "execution_count": null,
      "outputs": []
    },
    {
      "cell_type": "code",
      "source": [
        "customer.corr()"
      ],
      "metadata": {
        "id": "kXuz2iwIRHGv"
      },
      "execution_count": null,
      "outputs": []
    },
    {
      "cell_type": "markdown",
      "source": [
        "# Model Development - Building a Decision Tree"
      ],
      "metadata": {
        "id": "a7r2HbqSDwCF"
      }
    },
    {
      "cell_type": "code",
      "source": [
        "from sklearn.preprocessing import LabelEncoder\n",
        "\n",
        "label = LabelEncoder()\n",
        "Customer_Churn_Encoded = customer.apply(lambda col: label.fit_transform(col) if col.dtype == 'category' or col.dtype == 'object' else col)"
      ],
      "metadata": {
        "id": "rKXbvGnLGl6n"
      },
      "execution_count": null,
      "outputs": []
    },
    {
      "cell_type": "code",
      "source": [
        "Customer_Churn_Encoded.head()"
      ],
      "metadata": {
        "id": "aEuGYu8OG6zQ"
      },
      "execution_count": null,
      "outputs": []
    },
    {
      "cell_type": "code",
      "source": [
        "Customer_Churn_Encoded.keys()"
      ],
      "metadata": {
        "id": "IMZhxrsfG_05"
      },
      "execution_count": null,
      "outputs": []
    },
    {
      "cell_type": "code",
      "source": [
        "#Drop cust_id column\n",
        "Customer_Churn_Encoded = Customer_Churn_Encoded.drop(['cust_id'], axis=1)"
      ],
      "metadata": {
        "id": "-iPXPySfI2yI"
      },
      "execution_count": null,
      "outputs": []
    },
    {
      "cell_type": "code",
      "source": [
        "target = Customer_Churn_Encoded['churn']   #our Target variable is churn\n",
        "print(target.value_counts(normalize=True))"
      ],
      "metadata": {
        "id": "kKaQP5ltI6sl"
      },
      "execution_count": null,
      "outputs": []
    },
    {
      "cell_type": "code",
      "source": [
        "# Adjust column names as necessary\n",
        "\n",
        "predictors = Customer_Churn_Encoded.drop(['churn'], axis=1)"
      ],
      "metadata": {
        "id": "omZcajsoI-LU"
      },
      "execution_count": null,
      "outputs": []
    },
    {
      "cell_type": "markdown",
      "source": [
        "# Splitting and Test Dataset"
      ],
      "metadata": {
        "id": "RZH3nSs-R-u6"
      }
    },
    {
      "cell_type": "code",
      "source": [
        "predictors_train, predictors_test, target_train, target_test = train_test_split(predictors, target, test_size=0.2, random_state=1)"
      ],
      "metadata": {
        "id": "Tze9fKJgJCnn"
      },
      "execution_count": null,
      "outputs": []
    },
    {
      "cell_type": "code",
      "source": [
        "customer['churn'].value_counts()"
      ],
      "metadata": {
        "id": "zf-6KeeD71_U"
      },
      "execution_count": null,
      "outputs": []
    },
    {
      "cell_type": "code",
      "source": [
        "# Examine the porportion of target variable for data set\n",
        "target = customer['churn']\n",
        "print(target.value_counts(normalize=True))"
      ],
      "metadata": {
        "id": "4IGXFnJUlYX9"
      },
      "execution_count": null,
      "outputs": []
    },
    {
      "cell_type": "markdown",
      "source": [
        "# Developing Model"
      ],
      "metadata": {
        "id": "AAQ-ZGSzSFj8"
      }
    },
    {
      "cell_type": "code",
      "source": [
        "# Build a decision tree model on training data with max_depth = 2\n",
        "model = DecisionTreeClassifier(criterion = \"entropy\", random_state = 1, max_depth = 2)\n",
        "model.fit(predictors_train, target_train)"
      ],
      "metadata": {
        "id": "93A7TZkqJQ1z"
      },
      "execution_count": null,
      "outputs": []
    },
    {
      "cell_type": "code",
      "source": [
        "# Plot the tree\n",
        "fig = plt.figure(figsize=(30,20))\n",
        "tree.plot_tree(model,\n",
        "               feature_names=list(predictors_train.columns),\n",
        "               class_names=['No','Yes'],\n",
        "               filled=True)"
      ],
      "metadata": {
        "id": "D5YeST9HJUDe"
      },
      "execution_count": null,
      "outputs": []
    },
    {
      "cell_type": "code",
      "source": [
        "# Text version of decision tree\n",
        "\n",
        "print(tree.export_text(model, feature_names=list(customer.columns)[2:]))"
      ],
      "metadata": {
        "id": "7WWnuLGJJotO"
      },
      "execution_count": null,
      "outputs": []
    },
    {
      "cell_type": "code",
      "source": [
        "# Make predictions on testing data\n",
        "prediction_on_test = model.predict(predictors_test)"
      ],
      "metadata": {
        "id": "I2cQEN84Jt-l"
      },
      "execution_count": null,
      "outputs": []
    },
    {
      "cell_type": "code",
      "source": [
        "# Examine the evaluation results on testing data: confusion_matrix\n",
        "cm = confusion_matrix(target_test, prediction_on_test)\n",
        "ConfusionMatrixDisplay(confusion_matrix=cm, display_labels=model.classes_).plot()"
      ],
      "metadata": {
        "id": "mOzxDiQTKfm8"
      },
      "execution_count": null,
      "outputs": []
    },
    {
      "cell_type": "markdown",
      "source": [
        "# Results and Evaluation\n"
      ],
      "metadata": {
        "id": "7bgoAMuaEXWh"
      }
    },
    {
      "cell_type": "code",
      "source": [
        "print(classification_report(target_test, prediction_on_test))"
      ],
      "metadata": {
        "id": "CvG97XsCMWb2"
      },
      "execution_count": null,
      "outputs": []
    },
    {
      "cell_type": "code",
      "source": [
        "prediction_on_train =model.predict(predictors_train)\n",
        "cm_DT = confusion_matrix(target_train, prediction_on_train)\n",
        "ConfusionMatrixDisplay(confusion_matrix=cm_DT,display_labels=model.classes_).plot()\n",
        "print(classification_report(target_train, prediction_on_train))"
      ],
      "metadata": {
        "id": "ksXEHBUvMdzW"
      },
      "execution_count": null,
      "outputs": []
    },
    {
      "cell_type": "code",
      "source": [
        "# Select predictors and target variable\n",
        "predictors = ['region', 'tenure', 'age', 'marital', 'address', 'income',\n",
        "              'ed', 'employ', 'retire', 'gender', 'reside', 'tollfree', 'equip',\n",
        "              'callcard', 'wireless', 'longmon', 'tollmon', 'equipmon', 'cardmon',\n",
        "              'wiremon', 'longten', 'tollten', 'equipten', 'cardten', 'wireten',\n",
        "              'multline', 'voice', 'pager', 'internet', 'callid', 'callwait',\n",
        "              'forward', 'confer', 'ebill', 'loglong', 'lninc', 'custcat']\n",
        "target = 'churn'\n",
        "\n",
        "# Create feature matrix (X) and target vector (y)\n",
        "X = Customer_Churn_Encoded[predictors]\n",
        "y = Customer_Churn_Encoded[target]\n",
        "\n",
        "# Split the dataset into training and testing sets\n",
        "X_train, X_test, y_train, y_test = train_test_split(X, y, test_size=0.2, random_state=42)\n",
        "\n",
        "# Instantiate the Decision Tree classifier\n",
        "model = DecisionTreeClassifier()\n",
        "\n",
        "# Train the model\n",
        "model.fit(X_train, y_train)\n",
        "\n",
        "# Extract feature importances\n",
        "feature_importances = pd.Series(model.feature_importances_, index=X.columns).sort_values(ascending=False)\n",
        "\n",
        "# Display top 10 features with the highest impact on the prediction\n",
        "top_features = feature_importances.head(10)\n",
        "print(\"Top 10 features with the highest impact on the prediction -\")\n",
        "print(top_features)"
      ],
      "metadata": {
        "id": "pohDG5vxNWyf"
      },
      "execution_count": null,
      "outputs": []
    },
    {
      "cell_type": "markdown",
      "source": [
        "**Evaluation -**\n",
        "\n",
        "Top 10 Numerical features including longten, internet, equipten, address, employ,  \n",
        "age, cardten, tollten, longmon, lninc  are included in the dataset.\n",
        "\n",
        "The precision, recall, and F1-score for the training and test sets are displayed in the classification results.\n",
        "\n",
        "On the test set and training set, the model's accuracy is 81% and the weighted average is 78%.\n",
        "\n",
        "Top 10 features with the highest impact on the prediction has been mentioned."
      ],
      "metadata": {
        "id": "VTkexdCiOpgD"
      }
    },
    {
      "cell_type": "code",
      "source": [
        "!jupyter nbconvert --to html \"/content/drive/MyDrive/Colab Notebooks/ML_Assignment_Saumya Prasad.ipynb\""
      ],
      "metadata": {
        "id": "3kOwzDUSRhrF"
      },
      "execution_count": null,
      "outputs": []
    }
  ]
}